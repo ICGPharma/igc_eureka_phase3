{
 "cells": [
  {
   "cell_type": "code",
   "execution_count": 1,
   "metadata": {},
   "outputs": [],
   "source": [
    "import numpy as np\n",
    "import matplotlib.pyplot as plt\n",
    "from sklearn.metrics import precision_recall_curve, auc, average_precision_score\n",
    "import pandas as pd\n",
    "import os"
   ]
  },
  {
   "cell_type": "code",
   "execution_count": 6,
   "metadata": {},
   "outputs": [],
   "source": [
    "def compute_and_plot_auprc(y_true, y_pred_proba, save_path, average='macro'):\n",
    "    \"\"\"\n",
    "    Computes and plots AUPRC for each class in a multiclass classification task.\n",
    "\n",
    "    Args:\n",
    "        y_true (array-like): True class labels (n_samples,)\n",
    "        y_pred_proba (array-like): Predicted probabilities (n_samples, n_classes)\n",
    "        average (str): 'macro', 'weighted', or None\n",
    "    \"\"\"\n",
    "    y_true = np.asarray(y_true)\n",
    "    y_pred_proba = np.asarray(y_pred_proba)\n",
    "    n_classes = y_pred_proba.shape[1]\n",
    "\n",
    "    # One-hot encode true labels\n",
    "    y_true_bin = np.eye(n_classes)[y_true]\n",
    "\n",
    "    # Plot setup\n",
    "    plt.figure(figsize=(8, 6))\n",
    "    colors = plt.cm.tab10.colors  # color palette for up to 10 classes\n",
    "\n",
    "    auprc_scores = {}\n",
    "    diagnosis = ['Control','MCI','ADRD','Other']\n",
    "\n",
    "    for i in range(n_classes):\n",
    "        precision, recall, _ = precision_recall_curve(y_true_bin[:, i], y_pred_proba[:, i])\n",
    "        auprc = auc(recall, precision)\n",
    "        auprc_scores[f'class_{diagnosis[i]}'] = auprc\n",
    "\n",
    "        # Plot PR curve\n",
    "        plt.plot(recall, precision, color=colors[i % len(colors)],\n",
    "                 label=f\"{diagnosis[i]} (AUPRC = {auprc:.3f})\")\n",
    "\n",
    "    # Overall average score\n",
    "    average_score = average_precision_score(y_true_bin, y_pred_proba, average=average)\n",
    "    auprc_scores['average'] = average_score\n",
    "\n",
    "    # Plot formatting\n",
    "    plt.xlabel(\"Recall\")\n",
    "    plt.ylabel(\"Precision\")\n",
    "    plt.title(f\"Precision-Recall Curve (Average AUPRC: {average_score:.3f})\")\n",
    "    plt.legend()\n",
    "    plt.grid(True)\n",
    "    plt.tight_layout()\n",
    "\n",
    "    plt.savefig(save_path, dpi=300)\n",
    "    plt.close()\n",
    "\n",
    "    return auprc_scores"
   ]
  },
  {
   "cell_type": "code",
   "execution_count": 3,
   "metadata": {},
   "outputs": [],
   "source": [
    "column_map = {'diagnosis_control':0,'diagnosis_mci':1,'diagnosis_adrd':2,'diagnosis_other':3}\n",
    "\n",
    "# labels = pd.read_csv('../data/post_data/Test_labels.csv')\n",
    "labels = pd.read_csv('../data/post_data/All_labels.csv')\n",
    "labels['unique_id'] = labels['uid'].apply(lambda x: str(x).split('_')[0])\n",
    "labels = labels.drop(columns='uid')\n",
    "labels = labels.groupby('unique_id').first()\n",
    "labels['diagnosis'] = labels.idxmax(axis=1).map(column_map)"
   ]
  },
  {
   "cell_type": "code",
   "execution_count": 4,
   "metadata": {},
   "outputs": [],
   "source": [
    "def calculate_auprc(base_path):\n",
    "    results = pd.read_csv(os.path.join(base_path,'submission_whisper_final.csv'))\n",
    "    results['unique_id'] = results['uid'].apply(lambda x: str(x).split('_')[0])\n",
    "    results = results.drop(columns='uid')\n",
    "    results = results.groupby('unique_id').mean()\n",
    "    results['diagnosis'] = results.idxmax(axis=1).map(column_map)\n",
    "    filtered_labels = labels[labels.index.isin(results.index)]\n",
    "    compute_and_plot_auprc(\n",
    "        filtered_labels['diagnosis'],\n",
    "        results[['diagnosis_control','diagnosis_mci','diagnosis_adrd','diagnosis_other']],\n",
    "        os.path.join(base_path,'auprc.png')\n",
    "    )"
   ]
  },
  {
   "cell_type": "code",
   "execution_count": 7,
   "metadata": {},
   "outputs": [],
   "source": [
    "calculate_auprc('../results/whisper_metadata_age_multiplier')\n",
    "calculate_auprc('../results/whisper_metadata_age_fullaudio')\n",
    "calculate_auprc('../results/whisper_metadata')\n",
    "calculate_auprc('../results/whisper-large_fullaudio')\n",
    "calculate_auprc('../results/distilled_whisper_base_v0_2')"
   ]
  }
 ],
 "metadata": {
  "kernelspec": {
   "display_name": "audio_ad",
   "language": "python",
   "name": "python3"
  },
  "language_info": {
   "codemirror_mode": {
    "name": "ipython",
    "version": 3
   },
   "file_extension": ".py",
   "mimetype": "text/x-python",
   "name": "python",
   "nbconvert_exporter": "python",
   "pygments_lexer": "ipython3",
   "version": "3.12.5"
  }
 },
 "nbformat": 4,
 "nbformat_minor": 2
}
