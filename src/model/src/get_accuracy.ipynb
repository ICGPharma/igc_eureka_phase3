{
 "cells": [
  {
   "cell_type": "code",
   "execution_count": 59,
   "metadata": {},
   "outputs": [],
   "source": [
    "import pandas as pd\n",
    "from sklearn.metrics import accuracy_score, confusion_matrix\n",
    "import os"
   ]
  },
  {
   "cell_type": "code",
   "execution_count": 67,
   "metadata": {},
   "outputs": [],
   "source": [
    "column_map = {'diagnosis_control':0,'diagnosis_mci':1,'diagnosis_adrd':2,'diagnosis_other':3}\n",
    "\n",
    "# labels = pd.read_csv('../data/post_data/Test_labels.csv')\n",
    "labels = pd.read_csv('../data/post_data/All_labels.csv')\n",
    "labels['unique_id'] = labels['uid'].apply(lambda x: str(x).split('_')[0])\n",
    "labels = labels.drop(columns='uid')\n",
    "labels = labels.groupby('unique_id').first()\n",
    "labels['diagnosis'] = labels.idxmax(axis=1).map(column_map)"
   ]
  },
  {
   "cell_type": "code",
   "execution_count": 70,
   "metadata": {},
   "outputs": [],
   "source": [
    "def calculate_accuracy(base_path):\n",
    "    results = pd.read_csv(os.path.join(base_path,'submission_whisper_final.csv'))\n",
    "\n",
    "    results['unique_id'] = results['uid'].apply(lambda x: str(x).split('_')[0])\n",
    "    results = results.drop(columns='uid')\n",
    "    results = results.groupby('unique_id').mean()\n",
    "    results['diagnosis'] = results.idxmax(axis=1).map(column_map)\n",
    "    filtered_labels = labels[labels.index.isin(results.index)]\n",
    "    # results = results[results.index.isin(labels.index)]\n",
    "\n",
    "    with open(os.path.join(base_path,\"accuracy.txt\"),'a') as file:\n",
    "        acc_0 = accuracy_score(filtered_labels[filtered_labels['diagnosis']==0]['diagnosis'],results[filtered_labels['diagnosis']==0]['diagnosis'])\n",
    "        print(f\"Accuracy Control: {acc_0}\",file=file)\n",
    "        acc_1 = accuracy_score(filtered_labels[filtered_labels['diagnosis']==1]['diagnosis'],results[filtered_labels['diagnosis']==1]['diagnosis'])\n",
    "        print(f\"Accuracy MCI: {acc_1}\",file=file)\n",
    "        acc_2 = accuracy_score(filtered_labels[filtered_labels['diagnosis']==2]['diagnosis'],results[filtered_labels['diagnosis']==2]['diagnosis'])\n",
    "        print(f\"Accuracy ADRD: {acc_2}\",file=file)\n",
    "        acc_3 = accuracy_score(filtered_labels[filtered_labels['diagnosis']==3]['diagnosis'],results[filtered_labels['diagnosis']==3]['diagnosis'])\n",
    "        print(f\"Accuracy Other: {acc_3}\",file=file)\n",
    "\n",
    "calculate_accuracy('../results/distilled_whisper_base_v0_2')\n",
    "    "
   ]
  },
  {
   "cell_type": "code",
   "execution_count": 60,
   "metadata": {},
   "outputs": [
    {
     "name": "stdout",
     "output_type": "stream",
     "text": [
      "Accuracy for class 0: 0.6590\n",
      "Accuracy for class 1: 0.2684\n",
      "Accuracy for class 2: 0.8842\n",
      "Accuracy for class 3: 0.1053\n"
     ]
    }
   ],
   "source": [
    "def calculate_accuracy(base_path):\n",
    "    results = pd.read_csv(os.path.join(base_path,'submission_whisper_final.csv'))\n",
    "\n",
    "    results['unique_id'] = results['uid'].apply(lambda x: str(x).split('_')[0])\n",
    "    results = results.drop(columns='uid')\n",
    "    results = results.groupby('unique_id').mean()\n",
    "    results['diagnosis'] = results.idxmax(axis=1).map(column_map)\n",
    "    filtered_labels = labels[labels.index.isin(results.index)]\n",
    "\n",
    "    # with open(os.path.join(base_path,\"accuracy.txt\"),'a') as file:\n",
    "    #     acc_0 = accuracy_score(filtered_labels[filtered_labels['diagnosis']==0]['diagnosis'],results[filtered_labels['diagnosis']==0]['diagnosis'])\n",
    "    #     print(f\"Accuracy Control: {acc_0}\",file=file)\n",
    "    #     acc_1 = accuracy_score(filtered_labels[filtered_labels['diagnosis']==1]['diagnosis'],results[filtered_labels['diagnosis']==1]['diagnosis'])\n",
    "    #     print(f\"Accuracy MCI: {acc_1}\",file=file)\n",
    "    #     acc_2 = accuracy_score(filtered_labels[filtered_labels['diagnosis']==2]['diagnosis'],results[filtered_labels['diagnosis']==2]['diagnosis'])\n",
    "    #     print(f\"Accuracy ADRD: {acc_2}\",file=file)\n",
    "    #     acc_3 = accuracy_score(filtered_labels[filtered_labels['diagnosis']==3]['diagnosis'],results[filtered_labels['diagnosis']==3]['diagnosis'])\n",
    "    #     print(f\"Accuracy Other: {acc_3}\",file=file)\n",
    "    cm = confusion_matrix(labels['diagnosis'], results['diagnosis'], labels=[0, 1, 2, 3])\n",
    "\n",
    "    # Calculate accuracy for each class\n",
    "    class_accuracies = cm.diagonal() / cm.sum(axis=1)\n",
    "    for class_label in range(4):\n",
    "        print(f\"Accuracy for class {class_label}: {class_accuracies[class_label]:.4f}\")\n",
    "\n",
    "calculate_accuracy('../results/whisper_metadata_age_multiplier')\n",
    "    "
   ]
  },
  {
   "cell_type": "code",
   "execution_count": 56,
   "metadata": {},
   "outputs": [
    {
     "name": "stderr",
     "output_type": "stream",
     "text": [
      "/tmp/ipykernel_1143546/2711964586.py:10: UserWarning: Boolean Series key will be reindexed to match DataFrame index.\n",
      "  acc_0 = accuracy_score(labels[labels['diagnosis']==0]['diagnosis'],results[labels['diagnosis']==0]['diagnosis'])\n"
     ]
    },
    {
     "ename": "IndexingError",
     "evalue": "Unalignable boolean Series provided as indexer (index of the boolean Series and of the indexed object do not match).",
     "output_type": "error",
     "traceback": [
      "\u001b[31m---------------------------------------------------------------------------\u001b[39m",
      "\u001b[31mIndexingError\u001b[39m                             Traceback (most recent call last)",
      "\u001b[36mCell\u001b[39m\u001b[36m \u001b[39m\u001b[32mIn[56]\u001b[39m\u001b[32m, line 5\u001b[39m\n\u001b[32m      1\u001b[39m \u001b[38;5;66;03m# calculate_accuracy('../results/whisper_metadata_age_multiplier')\u001b[39;00m\n\u001b[32m      2\u001b[39m \u001b[38;5;66;03m# calculate_accuracy('../results/whisper_metadata_age_fullaudio')\u001b[39;00m\n\u001b[32m      3\u001b[39m \u001b[38;5;66;03m# calculate_accuracy('../results/whisper_metadata')\u001b[39;00m\n\u001b[32m      4\u001b[39m \u001b[38;5;66;03m# calculate_accuracy('../results/whisper-large_fullaudio')\u001b[39;00m\n\u001b[32m----> \u001b[39m\u001b[32m5\u001b[39m \u001b[43mcalculate_accuracy\u001b[49m\u001b[43m(\u001b[49m\u001b[33;43m'\u001b[39;49m\u001b[33;43m../results/distilled_whisper_base_v0\u001b[39;49m\u001b[33;43m'\u001b[39;49m\u001b[43m)\u001b[49m\n",
      "\u001b[36mCell\u001b[39m\u001b[36m \u001b[39m\u001b[32mIn[51]\u001b[39m\u001b[32m, line 10\u001b[39m, in \u001b[36mcalculate_accuracy\u001b[39m\u001b[34m(base_path)\u001b[39m\n\u001b[32m      7\u001b[39m results[\u001b[33m'\u001b[39m\u001b[33mdiagnosis\u001b[39m\u001b[33m'\u001b[39m] = results.idxmax(axis=\u001b[32m1\u001b[39m).map(column_map)\n\u001b[32m      9\u001b[39m \u001b[38;5;28;01mwith\u001b[39;00m \u001b[38;5;28mopen\u001b[39m(os.path.join(base_path,\u001b[33m\"\u001b[39m\u001b[33maccuracy.txt\u001b[39m\u001b[33m\"\u001b[39m),\u001b[33m'\u001b[39m\u001b[33ma\u001b[39m\u001b[33m'\u001b[39m) \u001b[38;5;28;01mas\u001b[39;00m file:\n\u001b[32m---> \u001b[39m\u001b[32m10\u001b[39m     acc_0 = accuracy_score(labels[labels[\u001b[33m'\u001b[39m\u001b[33mdiagnosis\u001b[39m\u001b[33m'\u001b[39m]==\u001b[32m0\u001b[39m][\u001b[33m'\u001b[39m\u001b[33mdiagnosis\u001b[39m\u001b[33m'\u001b[39m],\u001b[43mresults\u001b[49m\u001b[43m[\u001b[49m\u001b[43mlabels\u001b[49m\u001b[43m[\u001b[49m\u001b[33;43m'\u001b[39;49m\u001b[33;43mdiagnosis\u001b[39;49m\u001b[33;43m'\u001b[39;49m\u001b[43m]\u001b[49m\u001b[43m==\u001b[49m\u001b[32;43m0\u001b[39;49m\u001b[43m]\u001b[49m[\u001b[33m'\u001b[39m\u001b[33mdiagnosis\u001b[39m\u001b[33m'\u001b[39m])\n\u001b[32m     11\u001b[39m     \u001b[38;5;28mprint\u001b[39m(\u001b[33mf\u001b[39m\u001b[33m\"\u001b[39m\u001b[33mAccuracy Control: \u001b[39m\u001b[38;5;132;01m{\u001b[39;00macc_0\u001b[38;5;132;01m}\u001b[39;00m\u001b[33m\"\u001b[39m,file=file)\n\u001b[32m     12\u001b[39m     acc_1 = accuracy_score(labels[labels[\u001b[33m'\u001b[39m\u001b[33mdiagnosis\u001b[39m\u001b[33m'\u001b[39m]==\u001b[32m1\u001b[39m][\u001b[33m'\u001b[39m\u001b[33mdiagnosis\u001b[39m\u001b[33m'\u001b[39m],results[labels[\u001b[33m'\u001b[39m\u001b[33mdiagnosis\u001b[39m\u001b[33m'\u001b[39m]==\u001b[32m1\u001b[39m][\u001b[33m'\u001b[39m\u001b[33mdiagnosis\u001b[39m\u001b[33m'\u001b[39m])\n",
      "\u001b[36mFile \u001b[39m\u001b[32m/opt/miniconda3/envs/audio_ad/lib/python3.12/site-packages/pandas/core/frame.py:4093\u001b[39m, in \u001b[36mDataFrame.__getitem__\u001b[39m\u001b[34m(self, key)\u001b[39m\n\u001b[32m   4091\u001b[39m \u001b[38;5;66;03m# Do we have a (boolean) 1d indexer?\u001b[39;00m\n\u001b[32m   4092\u001b[39m \u001b[38;5;28;01mif\u001b[39;00m com.is_bool_indexer(key):\n\u001b[32m-> \u001b[39m\u001b[32m4093\u001b[39m     \u001b[38;5;28;01mreturn\u001b[39;00m \u001b[38;5;28;43mself\u001b[39;49m\u001b[43m.\u001b[49m\u001b[43m_getitem_bool_array\u001b[49m\u001b[43m(\u001b[49m\u001b[43mkey\u001b[49m\u001b[43m)\u001b[49m\n\u001b[32m   4095\u001b[39m \u001b[38;5;66;03m# We are left with two options: a single key, and a collection of keys,\u001b[39;00m\n\u001b[32m   4096\u001b[39m \u001b[38;5;66;03m# We interpret tuples as collections only for non-MultiIndex\u001b[39;00m\n\u001b[32m   4097\u001b[39m is_single_key = \u001b[38;5;28misinstance\u001b[39m(key, \u001b[38;5;28mtuple\u001b[39m) \u001b[38;5;129;01mor\u001b[39;00m \u001b[38;5;129;01mnot\u001b[39;00m is_list_like(key)\n",
      "\u001b[36mFile \u001b[39m\u001b[32m/opt/miniconda3/envs/audio_ad/lib/python3.12/site-packages/pandas/core/frame.py:4149\u001b[39m, in \u001b[36mDataFrame._getitem_bool_array\u001b[39m\u001b[34m(self, key)\u001b[39m\n\u001b[32m   4143\u001b[39m     \u001b[38;5;28;01mraise\u001b[39;00m \u001b[38;5;167;01mValueError\u001b[39;00m(\n\u001b[32m   4144\u001b[39m         \u001b[33mf\u001b[39m\u001b[33m\"\u001b[39m\u001b[33mItem wrong length \u001b[39m\u001b[38;5;132;01m{\u001b[39;00m\u001b[38;5;28mlen\u001b[39m(key)\u001b[38;5;132;01m}\u001b[39;00m\u001b[33m instead of \u001b[39m\u001b[38;5;132;01m{\u001b[39;00m\u001b[38;5;28mlen\u001b[39m(\u001b[38;5;28mself\u001b[39m.index)\u001b[38;5;132;01m}\u001b[39;00m\u001b[33m.\u001b[39m\u001b[33m\"\u001b[39m\n\u001b[32m   4145\u001b[39m     )\n\u001b[32m   4147\u001b[39m \u001b[38;5;66;03m# check_bool_indexer will throw exception if Series key cannot\u001b[39;00m\n\u001b[32m   4148\u001b[39m \u001b[38;5;66;03m# be reindexed to match DataFrame rows\u001b[39;00m\n\u001b[32m-> \u001b[39m\u001b[32m4149\u001b[39m key = \u001b[43mcheck_bool_indexer\u001b[49m\u001b[43m(\u001b[49m\u001b[38;5;28;43mself\u001b[39;49m\u001b[43m.\u001b[49m\u001b[43mindex\u001b[49m\u001b[43m,\u001b[49m\u001b[43m \u001b[49m\u001b[43mkey\u001b[49m\u001b[43m)\u001b[49m\n\u001b[32m   4151\u001b[39m \u001b[38;5;28;01mif\u001b[39;00m key.all():\n\u001b[32m   4152\u001b[39m     \u001b[38;5;28;01mreturn\u001b[39;00m \u001b[38;5;28mself\u001b[39m.copy(deep=\u001b[38;5;28;01mNone\u001b[39;00m)\n",
      "\u001b[36mFile \u001b[39m\u001b[32m/opt/miniconda3/envs/audio_ad/lib/python3.12/site-packages/pandas/core/indexing.py:2662\u001b[39m, in \u001b[36mcheck_bool_indexer\u001b[39m\u001b[34m(index, key)\u001b[39m\n\u001b[32m   2660\u001b[39m indexer = result.index.get_indexer_for(index)\n\u001b[32m   2661\u001b[39m \u001b[38;5;28;01mif\u001b[39;00m -\u001b[32m1\u001b[39m \u001b[38;5;129;01min\u001b[39;00m indexer:\n\u001b[32m-> \u001b[39m\u001b[32m2662\u001b[39m     \u001b[38;5;28;01mraise\u001b[39;00m IndexingError(\n\u001b[32m   2663\u001b[39m         \u001b[33m\"\u001b[39m\u001b[33mUnalignable boolean Series provided as \u001b[39m\u001b[33m\"\u001b[39m\n\u001b[32m   2664\u001b[39m         \u001b[33m\"\u001b[39m\u001b[33mindexer (index of the boolean Series and of \u001b[39m\u001b[33m\"\u001b[39m\n\u001b[32m   2665\u001b[39m         \u001b[33m\"\u001b[39m\u001b[33mthe indexed object do not match).\u001b[39m\u001b[33m\"\u001b[39m\n\u001b[32m   2666\u001b[39m     )\n\u001b[32m   2668\u001b[39m result = result.take(indexer)\n\u001b[32m   2670\u001b[39m \u001b[38;5;66;03m# fall through for boolean\u001b[39;00m\n",
      "\u001b[31mIndexingError\u001b[39m: Unalignable boolean Series provided as indexer (index of the boolean Series and of the indexed object do not match)."
     ]
    }
   ],
   "source": [
    "# calculate_accuracy('../results/whisper_metadata_age_multiplier')\n",
    "# calculate_accuracy('../results/whisper_metadata_age_fullaudio')\n",
    "# calculate_accuracy('../results/whisper_metadata')\n",
    "# calculate_accuracy('../results/whisper-large_fullaudio')\n",
    "calculate_accuracy('../results/distilled_whisper_base_v0')\n"
   ]
  }
 ],
 "metadata": {
  "kernelspec": {
   "display_name": "audio_ad",
   "language": "python",
   "name": "python3"
  },
  "language_info": {
   "codemirror_mode": {
    "name": "ipython",
    "version": 3
   },
   "file_extension": ".py",
   "mimetype": "text/x-python",
   "name": "python",
   "nbconvert_exporter": "python",
   "pygments_lexer": "ipython3",
   "version": "3.12.5"
  }
 },
 "nbformat": 4,
 "nbformat_minor": 2
}
